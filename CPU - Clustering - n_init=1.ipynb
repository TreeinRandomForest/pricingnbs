{
 "cells": [
  {
   "cell_type": "markdown",
   "metadata": {},
   "source": [
    "### Imports"
   ]
  },
  {
   "cell_type": "code",
   "execution_count": 1,
   "metadata": {},
   "outputs": [
    {
     "name": "stdout",
     "output_type": "stream",
     "text": [
      "Requirement already satisfied: ipywidgets==7.6.2 in /opt/app-root/lib/python3.6/site-packages (from -r requirements.txt (line 1)) (7.6.2)\n",
      "Requirement already satisfied: matplotlib==3.0.0 in /opt/app-root/lib/python3.6/site-packages (from -r requirements.txt (line 2)) (3.0.0)\n",
      "Requirement already satisfied: pandas==0.23.1 in /opt/app-root/lib/python3.6/site-packages (from -r requirements.txt (line 3)) (0.23.1)\n",
      "Requirement already satisfied: profilehooks==1.11.2 in /opt/app-root/lib/python3.6/site-packages (from -r requirements.txt (line 4)) (1.11.2)\n",
      "Requirement already satisfied: scikit-learn==0.22 in /opt/app-root/lib/python3.6/site-packages (from -r requirements.txt (line 5)) (0.22)\n",
      "Requirement already satisfied: torchvision==0.8.2 in /opt/app-root/lib/python3.6/site-packages (from -r requirements.txt (line 6)) (0.8.2)\n",
      "Requirement already satisfied: traitlets>=4.3.1 in /opt/app-root/lib/python3.6/site-packages (from ipywidgets==7.6.2->-r requirements.txt (line 1)) (4.3.3)\n",
      "Requirement already satisfied: nbformat>=4.2.0 in /opt/app-root/lib/python3.6/site-packages (from ipywidgets==7.6.2->-r requirements.txt (line 1)) (5.0.8)\n",
      "Requirement already satisfied: ipykernel>=4.5.1 in /opt/app-root/lib/python3.6/site-packages (from ipywidgets==7.6.2->-r requirements.txt (line 1)) (5.3.4)\n",
      "Requirement already satisfied: ipython>=4.0.0; python_version >= \"3.3\" in /opt/app-root/lib/python3.6/site-packages (from ipywidgets==7.6.2->-r requirements.txt (line 1)) (7.16.1)\n",
      "Requirement already satisfied: widgetsnbextension~=3.5.0 in /opt/app-root/lib/python3.6/site-packages (from ipywidgets==7.6.2->-r requirements.txt (line 1)) (3.5.1)\n",
      "Requirement already satisfied: jupyterlab-widgets>=1.0.0; python_version >= \"3.5\" in /opt/app-root/lib/python3.6/site-packages (from ipywidgets==7.6.2->-r requirements.txt (line 1)) (1.0.0)\n",
      "Requirement already satisfied: python-dateutil>=2.1 in /opt/app-root/lib/python3.6/site-packages (from matplotlib==3.0.0->-r requirements.txt (line 2)) (2.8.1)\n",
      "Requirement already satisfied: pyparsing!=2.0.4,!=2.1.2,!=2.1.6,>=2.0.1 in /opt/app-root/lib/python3.6/site-packages (from matplotlib==3.0.0->-r requirements.txt (line 2)) (2.4.7)\n",
      "Requirement already satisfied: numpy>=1.10.0 in /opt/app-root/lib/python3.6/site-packages (from matplotlib==3.0.0->-r requirements.txt (line 2)) (1.19.5)\n",
      "Requirement already satisfied: kiwisolver>=1.0.1 in /opt/app-root/lib/python3.6/site-packages (from matplotlib==3.0.0->-r requirements.txt (line 2)) (1.3.1)\n",
      "Requirement already satisfied: cycler>=0.10 in /opt/app-root/lib/python3.6/site-packages (from matplotlib==3.0.0->-r requirements.txt (line 2)) (0.10.0)\n",
      "Requirement already satisfied: pytz>=2011k in /opt/app-root/lib/python3.6/site-packages (from pandas==0.23.1->-r requirements.txt (line 3)) (2020.1)\n",
      "Requirement already satisfied: scipy>=0.17.0 in /opt/app-root/lib/python3.6/site-packages (from scikit-learn==0.22->-r requirements.txt (line 5)) (1.5.4)\n",
      "Requirement already satisfied: joblib>=0.11 in /opt/app-root/lib/python3.6/site-packages (from scikit-learn==0.22->-r requirements.txt (line 5)) (1.0.0)\n",
      "Requirement already satisfied: pillow>=4.1.1 in /opt/app-root/lib/python3.6/site-packages (from torchvision==0.8.2->-r requirements.txt (line 6)) (8.1.0)\n",
      "Requirement already satisfied: torch==1.7.1 in /opt/app-root/lib/python3.6/site-packages (from torchvision==0.8.2->-r requirements.txt (line 6)) (1.7.1)\n",
      "Requirement already satisfied: ipython-genutils in /opt/app-root/lib/python3.6/site-packages (from traitlets>=4.3.1->ipywidgets==7.6.2->-r requirements.txt (line 1)) (0.2.0)\n",
      "Requirement already satisfied: decorator in /opt/app-root/lib/python3.6/site-packages (from traitlets>=4.3.1->ipywidgets==7.6.2->-r requirements.txt (line 1)) (4.4.2)\n",
      "Requirement already satisfied: six in /opt/app-root/lib/python3.6/site-packages (from traitlets>=4.3.1->ipywidgets==7.6.2->-r requirements.txt (line 1)) (1.15.0)\n",
      "Requirement already satisfied: jsonschema!=2.5.0,>=2.4 in /opt/app-root/lib/python3.6/site-packages (from nbformat>=4.2.0->ipywidgets==7.6.2->-r requirements.txt (line 1)) (3.2.0)\n",
      "Requirement already satisfied: jupyter-core in /opt/app-root/lib/python3.6/site-packages (from nbformat>=4.2.0->ipywidgets==7.6.2->-r requirements.txt (line 1)) (4.6.3)\n",
      "Requirement already satisfied: jupyter-client in /opt/app-root/lib/python3.6/site-packages (from ipykernel>=4.5.1->ipywidgets==7.6.2->-r requirements.txt (line 1)) (6.1.7)\n",
      "Requirement already satisfied: tornado>=4.2 in /opt/app-root/lib/python3.6/site-packages (from ipykernel>=4.5.1->ipywidgets==7.6.2->-r requirements.txt (line 1)) (6.0.4)\n",
      "Requirement already satisfied: prompt-toolkit!=3.0.0,!=3.0.1,<3.1.0,>=2.0.0 in /opt/app-root/lib/python3.6/site-packages (from ipython>=4.0.0; python_version >= \"3.3\"->ipywidgets==7.6.2->-r requirements.txt (line 1)) (3.0.3)\n",
      "Requirement already satisfied: pygments in /opt/app-root/lib/python3.6/site-packages (from ipython>=4.0.0; python_version >= \"3.3\"->ipywidgets==7.6.2->-r requirements.txt (line 1)) (2.7.2)\n",
      "Requirement already satisfied: pexpect; sys_platform != \"win32\" in /opt/app-root/lib/python3.6/site-packages (from ipython>=4.0.0; python_version >= \"3.3\"->ipywidgets==7.6.2->-r requirements.txt (line 1)) (4.8.0)\n",
      "Requirement already satisfied: backcall in /opt/app-root/lib/python3.6/site-packages (from ipython>=4.0.0; python_version >= \"3.3\"->ipywidgets==7.6.2->-r requirements.txt (line 1)) (0.2.0)\n",
      "Requirement already satisfied: pickleshare in /opt/app-root/lib/python3.6/site-packages (from ipython>=4.0.0; python_version >= \"3.3\"->ipywidgets==7.6.2->-r requirements.txt (line 1)) (0.7.5)\n",
      "Requirement already satisfied: jedi>=0.10 in /opt/app-root/lib/python3.6/site-packages (from ipython>=4.0.0; python_version >= \"3.3\"->ipywidgets==7.6.2->-r requirements.txt (line 1)) (0.17.2)\n",
      "Requirement already satisfied: setuptools>=18.5 in /opt/app-root/lib/python3.6/site-packages (from ipython>=4.0.0; python_version >= \"3.3\"->ipywidgets==7.6.2->-r requirements.txt (line 1)) (50.3.2)\n",
      "Requirement already satisfied: notebook>=4.4.1 in /opt/app-root/lib/python3.6/site-packages (from widgetsnbextension~=3.5.0->ipywidgets==7.6.2->-r requirements.txt (line 1)) (6.1.4)\n",
      "Requirement already satisfied: typing-extensions in /opt/app-root/lib/python3.6/site-packages (from torch==1.7.1->torchvision==0.8.2->-r requirements.txt (line 6)) (3.7.4.3)\n",
      "Requirement already satisfied: dataclasses; python_version < \"3.7\" in /opt/app-root/lib/python3.6/site-packages (from torch==1.7.1->torchvision==0.8.2->-r requirements.txt (line 6)) (0.7)\n",
      "Requirement already satisfied: pyrsistent>=0.14.0 in /opt/app-root/lib/python3.6/site-packages (from jsonschema!=2.5.0,>=2.4->nbformat>=4.2.0->ipywidgets==7.6.2->-r requirements.txt (line 1)) (0.17.3)\n",
      "Requirement already satisfied: importlib-metadata; python_version < \"3.8\" in /opt/app-root/lib/python3.6/site-packages (from jsonschema!=2.5.0,>=2.4->nbformat>=4.2.0->ipywidgets==7.6.2->-r requirements.txt (line 1)) (2.0.0)\n",
      "Requirement already satisfied: attrs>=17.4.0 in /opt/app-root/lib/python3.6/site-packages (from jsonschema!=2.5.0,>=2.4->nbformat>=4.2.0->ipywidgets==7.6.2->-r requirements.txt (line 1)) (20.2.0)\n",
      "Requirement already satisfied: pyzmq>=13 in /opt/app-root/lib/python3.6/site-packages (from jupyter-client->ipykernel>=4.5.1->ipywidgets==7.6.2->-r requirements.txt (line 1)) (19.0.2)\n",
      "Requirement already satisfied: wcwidth in /opt/app-root/lib/python3.6/site-packages (from prompt-toolkit!=3.0.0,!=3.0.1,<3.1.0,>=2.0.0->ipython>=4.0.0; python_version >= \"3.3\"->ipywidgets==7.6.2->-r requirements.txt (line 1)) (0.2.5)\n",
      "Requirement already satisfied: ptyprocess>=0.5 in /opt/app-root/lib/python3.6/site-packages (from pexpect; sys_platform != \"win32\"->ipython>=4.0.0; python_version >= \"3.3\"->ipywidgets==7.6.2->-r requirements.txt (line 1)) (0.6.0)\n",
      "Requirement already satisfied: parso<0.8.0,>=0.7.0 in /opt/app-root/lib/python3.6/site-packages (from jedi>=0.10->ipython>=4.0.0; python_version >= \"3.3\"->ipywidgets==7.6.2->-r requirements.txt (line 1)) (0.7.1)\n",
      "Requirement already satisfied: Send2Trash in /opt/app-root/lib/python3.6/site-packages (from notebook>=4.4.1->widgetsnbextension~=3.5.0->ipywidgets==7.6.2->-r requirements.txt (line 1)) (1.5.0)\n",
      "Requirement already satisfied: jinja2 in /opt/app-root/lib/python3.6/site-packages (from notebook>=4.4.1->widgetsnbextension~=3.5.0->ipywidgets==7.6.2->-r requirements.txt (line 1)) (2.11.2)\n",
      "Requirement already satisfied: nbconvert in /opt/app-root/lib/python3.6/site-packages (from notebook>=4.4.1->widgetsnbextension~=3.5.0->ipywidgets==7.6.2->-r requirements.txt (line 1)) (5.6.1)\n",
      "Requirement already satisfied: terminado>=0.8.3 in /opt/app-root/lib/python3.6/site-packages (from notebook>=4.4.1->widgetsnbextension~=3.5.0->ipywidgets==7.6.2->-r requirements.txt (line 1)) (0.9.1)\n",
      "Requirement already satisfied: argon2-cffi in /opt/app-root/lib/python3.6/site-packages (from notebook>=4.4.1->widgetsnbextension~=3.5.0->ipywidgets==7.6.2->-r requirements.txt (line 1)) (20.1.0)\n",
      "Requirement already satisfied: prometheus-client in /opt/app-root/lib/python3.6/site-packages (from notebook>=4.4.1->widgetsnbextension~=3.5.0->ipywidgets==7.6.2->-r requirements.txt (line 1)) (0.8.0)\n",
      "Requirement already satisfied: zipp>=0.5 in /opt/app-root/lib/python3.6/site-packages (from importlib-metadata; python_version < \"3.8\"->jsonschema!=2.5.0,>=2.4->nbformat>=4.2.0->ipywidgets==7.6.2->-r requirements.txt (line 1)) (3.4.0)\n",
      "Requirement already satisfied: MarkupSafe>=0.23 in /opt/app-root/lib/python3.6/site-packages (from jinja2->notebook>=4.4.1->widgetsnbextension~=3.5.0->ipywidgets==7.6.2->-r requirements.txt (line 1)) (1.1.1)\n",
      "Requirement already satisfied: mistune<2,>=0.8.1 in /opt/app-root/lib/python3.6/site-packages (from nbconvert->notebook>=4.4.1->widgetsnbextension~=3.5.0->ipywidgets==7.6.2->-r requirements.txt (line 1)) (0.8.4)\n",
      "Requirement already satisfied: testpath in /opt/app-root/lib/python3.6/site-packages (from nbconvert->notebook>=4.4.1->widgetsnbextension~=3.5.0->ipywidgets==7.6.2->-r requirements.txt (line 1)) (0.4.4)\n",
      "Requirement already satisfied: pandocfilters>=1.4.1 in /opt/app-root/lib/python3.6/site-packages (from nbconvert->notebook>=4.4.1->widgetsnbextension~=3.5.0->ipywidgets==7.6.2->-r requirements.txt (line 1)) (1.4.3)\n",
      "Requirement already satisfied: defusedxml in /opt/app-root/lib/python3.6/site-packages (from nbconvert->notebook>=4.4.1->widgetsnbextension~=3.5.0->ipywidgets==7.6.2->-r requirements.txt (line 1)) (0.6.0)\n",
      "Requirement already satisfied: entrypoints>=0.2.2 in /opt/app-root/lib/python3.6/site-packages (from nbconvert->notebook>=4.4.1->widgetsnbextension~=3.5.0->ipywidgets==7.6.2->-r requirements.txt (line 1)) (0.3)\n",
      "Requirement already satisfied: bleach in /opt/app-root/lib/python3.6/site-packages (from nbconvert->notebook>=4.4.1->widgetsnbextension~=3.5.0->ipywidgets==7.6.2->-r requirements.txt (line 1)) (3.2.1)\n",
      "Requirement already satisfied: cffi>=1.0.0 in /opt/app-root/lib/python3.6/site-packages (from argon2-cffi->notebook>=4.4.1->widgetsnbextension~=3.5.0->ipywidgets==7.6.2->-r requirements.txt (line 1)) (1.14.3)\n",
      "Requirement already satisfied: packaging in /opt/app-root/lib/python3.6/site-packages (from bleach->nbconvert->notebook>=4.4.1->widgetsnbextension~=3.5.0->ipywidgets==7.6.2->-r requirements.txt (line 1)) (20.4)\n",
      "Requirement already satisfied: webencodings in /opt/app-root/lib/python3.6/site-packages (from bleach->nbconvert->notebook>=4.4.1->widgetsnbextension~=3.5.0->ipywidgets==7.6.2->-r requirements.txt (line 1)) (0.5.1)\n",
      "Requirement already satisfied: pycparser in /opt/app-root/lib/python3.6/site-packages (from cffi>=1.0.0->argon2-cffi->notebook>=4.4.1->widgetsnbextension~=3.5.0->ipywidgets==7.6.2->-r requirements.txt (line 1)) (2.20)\n",
      "\u001b[33mWARNING: You are using pip version 20.2.4; however, version 21.0.1 is available.\n",
      "You should consider upgrading via the '/opt/app-root/bin/python3.6 -m pip install --upgrade pip' command.\u001b[0m\n"
     ]
    }
   ],
   "source": [
    "!pip install -r requirements.txt"
   ]
  },
  {
   "cell_type": "code",
   "execution_count": 2,
   "metadata": {},
   "outputs": [],
   "source": [
    "%load_ext autoreload\n",
    "%autoreload 2\n",
    "%matplotlib inline"
   ]
  },
  {
   "cell_type": "code",
   "execution_count": 3,
   "metadata": {},
   "outputs": [],
   "source": [
    "import numpy as np\n",
    "import pandas as pd\n",
    "from sklearn.cluster import KMeans\n",
    "from sklearn.preprocessing import StandardScaler\n",
    "from sklearn.linear_model import LinearRegression\n",
    "import multiprocessing as mp\n",
    "import copy\n",
    "import os\n",
    "\n",
    "from torchvision.datasets import MNIST\n",
    "\n",
    "from profilehooks import profile\n",
    "    \n",
    "import matplotlib.pylab as plt"
   ]
  },
  {
   "cell_type": "markdown",
   "metadata": {},
   "source": [
    "#### Get number of threads and choose range of number of clusters"
   ]
  },
  {
   "cell_type": "code",
   "execution_count": 4,
   "metadata": {},
   "outputs": [],
   "source": [
    "N_PROC = 4 #CHANGE THIS\n",
    "\n",
    "N_CLUSTER_LOW = 5 #CAN CHANGE THIS\n",
    "N_CLUSTER_HIGH = 15 #CAN CHANGE THIS\n",
    "\n",
    "N_INIT = 1 #DON'T CHANGE THIS\n",
    "N_INIT_TOTAL = 10 #DON'T CHANGE THIS"
   ]
  },
  {
   "cell_type": "markdown",
   "metadata": {},
   "source": [
    "### Workload\n",
    "\n",
    "This workload runs K-means clustering on the MNIST dataset for a range of n_cluster values. The idea is to see how well a simple clustering on raw pixel values segments the data since we have labels. There are no embeddings of the data using a neural network and no feature transformations apart from scaling each feature to mean = 0 and standard deviation = 1.\n",
    "\n",
    "Note that K-means is run on the full dataset for a range of n_cluster values. In addition, for each n_cluster value, by default, scikit-learn's implementation runs the algorithm n_init = 10 times with different random initializations of the cluster locations. Each of these runs is distributed across all available threads by scikit-learn. In addition, we run the range of cluster_values in parallel using multiple threads."
   ]
  },
  {
   "cell_type": "code",
   "execution_count": 5,
   "metadata": {},
   "outputs": [],
   "source": [
    "data = MNIST('./', download=True)"
   ]
  },
  {
   "cell_type": "code",
   "execution_count": 6,
   "metadata": {},
   "outputs": [
    {
     "name": "stdout",
     "output_type": "stream",
     "text": [
      "(60000, 784)\n"
     ]
    },
    {
     "name": "stderr",
     "output_type": "stream",
     "text": [
      "/opt/app-root/lib/python3.6/site-packages/torchvision/datasets/mnist.py:58: UserWarning: train_data has been renamed data\n",
      "  warnings.warn(\"train_data has been renamed data\")\n"
     ]
    }
   ],
   "source": [
    "#flatten each image\n",
    "data = data.train_data.numpy().reshape(data.train_data.shape[0], -1).astype(np.float32)\n",
    "print(data.shape)"
   ]
  },
  {
   "cell_type": "code",
   "execution_count": 7,
   "metadata": {},
   "outputs": [],
   "source": [
    "class Cluster:\n",
    "    def __init__(self, data,                \n",
    "                 n_clusters_low=2, \n",
    "                 n_clusters_high=50, \n",
    "                 n_clusters_stepsize=5, \n",
    "                 n_processes=None):\n",
    "\n",
    "        self.data = data.copy()\n",
    "\n",
    "        self.data_normalized = None  # zscore -> pca -> zscore\n",
    "\n",
    "        #clustering scan\n",
    "        self.n_clusters_low = n_clusters_low\n",
    "        self.n_clusters_high = n_clusters_high\n",
    "        self.n_clusters_stepsize = n_clusters_stepsize\n",
    "        self.n_processes = n_processes\n",
    "\n",
    "        self.models_dict = None\n",
    "        self.inertia_dict = None\n",
    "\n",
    "        #clustering optimal\n",
    "        self.n_clusters_optimal = None\n",
    "        self.kmeans_optimal = None\n",
    "\n",
    "    @profile(immediate=True)\n",
    "    def train(self):\n",
    "        self.preprocess_normalize()\n",
    "\n",
    "        if self.n_processes is None:\n",
    "            self.find_nclusters()\n",
    "        else:\n",
    "            self.find_nclusters_parallel()\n",
    "\n",
    "        #self.find_elbow()  # hard-coded currently\n",
    "\n",
    "\n",
    "    def preprocess_normalize(self):        \n",
    "        self.scaler = StandardScaler()\n",
    "        self.data_normalized = self.scaler.fit_transform(self.data)\n",
    "\n",
    "    def find_nclusters(self):\n",
    "        raise ValueError('You should be passing a value for n_processes')\n",
    "        \n",
    "        print('Calling find_nclusters...')\n",
    "        if self.data_normalized is None:\n",
    "            raise AttributeError(\"Please call preprocess_normalize to prepare data for clustering.\")\n",
    "\n",
    "        self.inertia_dict, self.models_dict = {}, {}\n",
    "        for ncl in range(self.n_clusters_low, self.n_clusters_high, self.n_clusters_stepsize):\n",
    "            kmeans = KMeans(n_clusters=ncl, n_init=N_INIT, n_jobs=N_PROC)\n",
    "            kmeans.fit(self.data_normalized)\n",
    "\n",
    "            self.inertia_dict[ncl] = kmeans.inertia_\n",
    "            self.models_dict[ncl] = kmeans\n",
    "\n",
    "    def find_nclusters_parallel(self):\n",
    "        print('Calling find_nclusters_parallel...')\n",
    "        manager = mp.Manager()\n",
    "        models_shared_dict = manager.dict()\n",
    "        inertia_shared_dict = manager.dict()\n",
    "\n",
    "        proc_list = []\n",
    "        counter = 0\n",
    "        def run(data, ncl, init_id):\n",
    "            kmeans = KMeans(n_clusters=ncl, n_init=N_INIT)\n",
    "            kmeans.fit(data)\n",
    "\n",
    "            inertia_shared_dict[(ncl, init_id)] = kmeans.inertia_\n",
    "            models_shared_dict[(ncl, init_id)] = kmeans\n",
    "\n",
    "        for ncl in range(self.n_clusters_low, self.n_clusters_high+1, self.n_clusters_stepsize):\n",
    "            for init_id in range(N_INIT_TOTAL):\n",
    "                proc = mp.Process(target=run, args=(self.data_normalized, ncl, init_id))\n",
    "                proc.start()\n",
    "                proc_list.append(proc)\n",
    "                counter += 1\n",
    "\n",
    "                if counter % self.n_processes == 0:\n",
    "                    [p.join() for p in  proc_list]\n",
    "                    proc_list = []\n",
    "\n",
    "                [p.join() for p in proc_list]\n",
    "\n",
    "        self.inertia_dict = dict(inertia_shared_dict)\n",
    "        self.models_dict = dict(models_shared_dict)\n",
    "    \n",
    "    def find_best_ninit(self):\n",
    "        inertia_dict, models_dict = {}, {}\n",
    "\n",
    "        for ncl in range(N_CLUSTER_LOW, N_CLUSTER_HIGH+1):\n",
    "\n",
    "            min_inertia_val = self.inertia_dict[(ncl, 0)]\n",
    "            min_iter_id = 0\n",
    "\n",
    "            for iter_id in range(1, N_INIT_TOTAL):\n",
    "                current_inertia_val = self.inertia_dict[(ncl, iter_id)]\n",
    "\n",
    "                if current_inertia_val < min_inertia_val:\n",
    "                    min_inertia_val = current_inertia_val\n",
    "                    min_iter_id = iter_id\n",
    "\n",
    "            #store best result\n",
    "            models_dict[ncl] = self.models_dict[(ncl, min_iter_id)]\n",
    "            inertia_dict[ncl] = self.inertia_dict[(ncl, min_iter_id)]                \n",
    "\n",
    "            assert(models_dict[ncl].inertia_==inertia_dict[ncl])\n",
    "\n",
    "        self.models_dict_fine = copy.deepcopy(self.models_dict)\n",
    "        self.inertia_dict_fine = copy.deepcopy(self.inertia_dict)\n",
    "        \n",
    "        self.models_dict = models_dict\n",
    "        self.inertia_dict = inertia_dict        \n",
    "    \n",
    "    def find_elbow(self):\n",
    "        if self.inertia_dict is None:\n",
    "            raise AttributeError(\"Please run find_nclusters to populated inertia_dict.\")\n",
    "        \n",
    "        keys = np.sort(list(self.inertia_dict.keys()))\n",
    "        values = np.array([self.inertia_dict[k] for k in keys])\n",
    "\n",
    "        N = len(keys)\n",
    "\n",
    "        thresholds = np.arange(2, N-1) #indices to slice at\n",
    "\n",
    "        threshold_cuts, score_means = [], []\n",
    "\n",
    "        for t in thresholds:\n",
    "            model1, model2 = LinearRegression(), LinearRegression()\n",
    "\n",
    "            domain1 = np.arange(t)\n",
    "            domain2 = np.arange(t, N)\n",
    "            \n",
    "            model1.fit(keys[domain1].reshape(-1,1), values[domain1])\n",
    "            model2.fit(keys[domain2].reshape(-1,1), values[domain2])\n",
    "\n",
    "            score1 = model1.score(keys[domain1].reshape(-1,1), values[domain1])\n",
    "            score2 = model2.score(keys[domain2].reshape(-1,1), values[domain2])\n",
    "\n",
    "            score = (score1+score2)/2.0\n",
    "            \n",
    "            threshold_cuts.append(keys[t])\n",
    "            score_means.append(score)\n",
    "\n",
    "        self.n_clusters_optimal = threshold_cuts[np.argmax(score_means)]\n",
    "\n",
    "        return threshold_cuts, score_means\n"
   ]
  },
  {
   "cell_type": "markdown",
   "metadata": {},
   "source": [
    "### Some run times"
   ]
  },
  {
   "cell_type": "code",
   "execution_count": 8,
   "metadata": {},
   "outputs": [
    {
     "name": "stdout",
     "output_type": "stream",
     "text": [
      "Calling find_nclusters_parallel...\n",
      "\n",
      "*** PROFILER RESULTS ***\n",
      "train (<ipython-input-7-7296ba091b0c>:25)\n",
      "function called 1 times\n",
      "\n",
      "         26290 function calls (26217 primitive calls) in 1946.331 seconds\n",
      "\n",
      "   Ordered by: cumulative time, internal time, call count\n",
      "   List reduced from 377 to 40 due to restriction <40>\n",
      "\n",
      "   ncalls  tottime  percall  cumtime  percall filename:lineno(function)\n",
      "        1    0.000    0.000 1946.331 1946.331 <ipython-input-7-7296ba091b0c>:25(train)\n",
      "        1    0.010    0.010 1945.493 1945.493 <ipython-input-7-7296ba091b0c>:56(find_nclusters_parallel)\n",
      "      274    0.002    0.000 1944.885    7.098 process.py:118(join)\n",
      "      274    0.001    0.000 1944.883    7.098 popen_fork.py:43(wait)\n",
      "      223    0.002    0.000 1944.875    8.721 popen_fork.py:24(poll)\n",
      "      222 1944.872    8.761 1944.872    8.761 {built-in method posix.waitpid}\n",
      "      110    0.001    0.000 1473.851   13.399 <ipython-input-7-7296ba091b0c>:82(<listcomp>)\n",
      "       27    0.000    0.000  471.027   17.445 <ipython-input-7-7296ba091b0c>:79(<listcomp>)\n",
      "        1    0.000    0.000    0.828    0.828 <ipython-input-7-7296ba091b0c>:37(preprocess_normalize)\n",
      "        1    0.000    0.000    0.828    0.828 base.py:544(fit_transform)\n",
      "     15/7    0.018    0.001    0.573    0.082 {built-in method numpy.core._multiarray_umath.implement_array_function}\n",
      "        1    0.000    0.000    0.567    0.567 _data.py:654(fit)\n",
      "        1    0.000    0.000    0.567    0.567 _data.py:671(partial_fit)\n",
      "        4    0.000    0.000    0.542    0.135 extmath.py:681(_safe_accumulator_op)\n",
      "        1    0.027    0.027    0.531    0.531 extmath.py:710(_incremental_mean_and_var)\n",
      "      111    0.004    0.000    0.526    0.005 process.py:95(start)\n",
      "      111    0.004    0.000    0.518    0.005 context.py:274(_Popen)\n",
      "      110    0.002    0.000    0.513    0.005 context.py:221(_Popen)\n",
      "      111    0.002    0.000    0.510    0.005 popen_fork.py:16(__init__)\n",
      "      111    0.057    0.001    0.418    0.004 popen_fork.py:63(_launch)\n",
      "      111    0.350    0.003    0.350    0.003 {built-in method posix.fork}\n",
      "        1    0.000    0.000    0.314    0.314 <__array_function__ internals>:2(nanvar)\n",
      "        1    0.100    0.100    0.314    0.314 nanfunctions.py:1421(nanvar)\n",
      "        1    0.161    0.161    0.261    0.261 _data.py:780(transform)\n",
      "        7    0.000    0.000    0.253    0.036 <__array_function__ internals>:2(sum)\n",
      "        7    0.000    0.000    0.253    0.036 fromnumeric.py:2105(sum)\n",
      "        8    0.000    0.000    0.253    0.032 fromnumeric.py:70(_wrapreduction)\n",
      "       10    0.253    0.025    0.253    0.025 {method 'reduce' of 'numpy.ufunc' objects}\n",
      "        9    0.218    0.024    0.218    0.024 {built-in method numpy.array}\n",
      "        2    0.050    0.025    0.213    0.107 nanfunctions.py:68(_replace_nan)\n",
      "        1    0.000    0.000    0.158    0.158 <__array_function__ internals>:2(nansum)\n",
      "        1    0.000    0.000    0.157    0.157 nanfunctions.py:557(nansum)\n",
      "        2    0.000    0.000    0.135    0.068 validation.py:339(check_array)\n",
      "      111    0.002    0.000    0.090    0.001 util.py:395(_flush_std_streams)\n",
      "      222    0.005    0.000    0.088    0.000 iostream.py:337(flush)\n",
      "        2    0.000    0.000    0.069    0.035 validation.py:37(_assert_all_finite)\n",
      "      222    0.001    0.000    0.061    0.000 threading.py:533(wait)\n",
      "      220    0.001    0.000    0.059    0.000 threading.py:263(wait)\n",
      "      222    0.001    0.000    0.059    0.000 managers.py:744(_callmethod)\n",
      "      220    0.000    0.000    0.058    0.000 <string>:1(__getitem__)\n",
      "\n",
      "\n"
     ]
    }
   ],
   "source": [
    "cl = Cluster(data, n_clusters_low=N_CLUSTER_LOW, n_clusters_high=N_CLUSTER_HIGH, n_clusters_stepsize=1, n_processes=N_PROC)\n",
    "cl.train()"
   ]
  },
  {
   "cell_type": "code",
   "execution_count": null,
   "metadata": {},
   "outputs": [],
   "source": [
    "cl.find_best_ninit()"
   ]
  },
  {
   "cell_type": "code",
   "execution_count": null,
   "metadata": {},
   "outputs": [],
   "source": [
    "print(cl.inertia_dict)\n",
    "print(cl.inertia_dict_fine)"
   ]
  },
  {
   "cell_type": "markdown",
   "metadata": {},
   "source": [
    "Each column in the table below is a single cluster. The rows show the number of images in a particular cluster that belong to each digit (rows).\n",
    "\n",
    "E.g.:\n",
    "\n",
    "Cluster 9 contains both \"7\" and \"9\" which are similar in shape\n",
    "\n",
    "Cluster 2 is dominated by \"0\"s\n",
    "\n",
    "Cluster 1 contains \"4\", \"7\" and \"9\" which are also similar in shape"
   ]
  },
  {
   "cell_type": "code",
   "execution_count": null,
   "metadata": {},
   "outputs": [],
   "source": [
    "if 5 in cl.models_dict:\n",
    "    pred = cl.models_dict[5].predict(cl.data_normalized)\n",
    "    labels = MNIST('./', download=True).train_labels.numpy()\n",
    "    \n",
    "    comp = pd.DataFrame({'clusterid': pred, 'label': labels})\n",
    "    comp['count'] = 1\n",
    "    table = pd.pivot_table(comp, index='label', columns='clusterid', values='count', aggfunc='sum')\n",
    "    \n",
    "table.fillna(0)"
   ]
  },
  {
   "cell_type": "markdown",
   "metadata": {},
   "source": [
    "One method to find the optimal number of clusters is to look at the so-called elbow plot of the inertia (sum of distances of each point from its cluster's center) vs the number of clusters. As the number of clusters approaches the number of data points, inertia approaches 0 (since each point is its own clusters). Often, there is a num_cluster values at which the plot shows a dramatic change in slope (slope becomes less negative i.e. increases). This doesn't happen here which is expected since even some variation in an image (pixel-wise translation) can result in a big increase in Euclidean distance but none in the label.\n",
    "\n",
    "One way to automatically identify the elbow plot is to split the number of clusters axis at different points and fit both the left and right side of the point with linear models. If there's a sharp elbow, both fits should be very good leading to a local maximum of the average R^2 metric. This is implemented in Cluster.find_elbow."
   ]
  },
  {
   "cell_type": "code",
   "execution_count": null,
   "metadata": {},
   "outputs": [],
   "source": [
    "plt.plot(list(cl.inertia_dict.keys()), list(cl.inertia_dict.values()), 'p')"
   ]
  },
  {
   "cell_type": "code",
   "execution_count": null,
   "metadata": {},
   "outputs": [],
   "source": [
    "threshold_cuts, score_means = cl.find_elbow()"
   ]
  },
  {
   "cell_type": "code",
   "execution_count": null,
   "metadata": {},
   "outputs": [],
   "source": [
    "plt.plot(threshold_cuts, score_means)"
   ]
  },
  {
   "cell_type": "markdown",
   "metadata": {},
   "source": [
    "In the plot above, the best average $R^2$ score at n_clusters = 10 indicating we should pick 10 as the value for num_clusters."
   ]
  },
  {
   "cell_type": "code",
   "execution_count": null,
   "metadata": {},
   "outputs": [],
   "source": []
  }
 ],
 "metadata": {
  "kernelspec": {
   "display_name": "Python 3",
   "language": "python",
   "name": "python3"
  },
  "language_info": {
   "codemirror_mode": {
    "name": "ipython",
    "version": 3
   },
   "file_extension": ".py",
   "mimetype": "text/x-python",
   "name": "python",
   "nbconvert_exporter": "python",
   "pygments_lexer": "ipython3",
   "version": "3.6.8"
  }
 },
 "nbformat": 4,
 "nbformat_minor": 4
}

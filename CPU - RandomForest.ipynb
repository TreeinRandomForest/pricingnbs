{
 "cells": [
  {
   "cell_type": "markdown",
   "metadata": {},
   "source": [
    "### Imports"
   ]
  },
  {
   "cell_type": "code",
   "execution_count": 1,
   "metadata": {},
   "outputs": [
    {
     "name": "stdout",
     "output_type": "stream",
     "text": [
      "\u001b[31mERROR: Could not find a version that satisfies the requirement apsw==3.33.0.post1\u001b[0m\r\n",
      "\u001b[31mERROR: No matching distribution found for apsw==3.33.0.post1\u001b[0m\r\n"
     ]
    }
   ],
   "source": [
    "!pip install -r requirements.txt"
   ]
  },
  {
   "cell_type": "code",
   "execution_count": null,
   "metadata": {},
   "outputs": [],
   "source": [
    "!pip install matplotlib pandas profilehooks scikit-learn torchvision"
   ]
  },
  {
   "cell_type": "code",
   "execution_count": 44,
   "metadata": {},
   "outputs": [
    {
     "name": "stdout",
     "output_type": "stream",
     "text": [
      "The autoreload extension is already loaded. To reload it, use:\n",
      "  %reload_ext autoreload\n"
     ]
    }
   ],
   "source": [
    "%load_ext autoreload\n",
    "%autoreload 2\n",
    "%matplotlib inline"
   ]
  },
  {
   "cell_type": "code",
   "execution_count": 45,
   "metadata": {},
   "outputs": [],
   "source": [
    "import numpy as np\n",
    "import pandas as pd\n",
    "from sklearn.ensemble import RandomForestClassifier\n",
    "import copy\n",
    "import os\n",
    "\n",
    "from torchvision.datasets import MNIST\n",
    "\n",
    "from profilehooks import profile\n",
    "    \n",
    "import matplotlib.pylab as plt"
   ]
  },
  {
   "cell_type": "markdown",
   "metadata": {},
   "source": [
    "#### Get number of threads and choose range of number of clusters"
   ]
  },
  {
   "cell_type": "code",
   "execution_count": 46,
   "metadata": {},
   "outputs": [],
   "source": [
    "N_PROC = 2 #CHANGE THIS\n",
    "N_TREES = 1000\n",
    "N_TRAIN_CYCLES = 2"
   ]
  },
  {
   "cell_type": "markdown",
   "metadata": {},
   "source": [
    "### Workload\n",
    "\n",
    "Run a random forest classifier on the MNIST dataset. The training process is CPU only with the trees distributed across N_PROC. Note: obviously, we are not claiming a random forest classifier is the most appropriate model for an image classification problem on raw pixel features."
   ]
  },
  {
   "cell_type": "code",
   "execution_count": 47,
   "metadata": {},
   "outputs": [],
   "source": [
    "data = MNIST('./', download=True)"
   ]
  },
  {
   "cell_type": "code",
   "execution_count": 48,
   "metadata": {},
   "outputs": [
    {
     "name": "stderr",
     "output_type": "stream",
     "text": [
      "/home/sanjay/venv_general/lib64/python3.8/site-packages/torchvision/datasets/mnist.py:48: UserWarning: train_labels has been renamed targets\n",
      "  warnings.warn(\"train_labels has been renamed targets\")\n"
     ]
    },
    {
     "data": {
      "text/plain": [
       "tensor([5, 0, 4,  ..., 5, 6, 8])"
      ]
     },
     "execution_count": 48,
     "metadata": {},
     "output_type": "execute_result"
    }
   ],
   "source": [
    "data.train_labels"
   ]
  },
  {
   "cell_type": "code",
   "execution_count": 49,
   "metadata": {},
   "outputs": [
    {
     "name": "stdout",
     "output_type": "stream",
     "text": [
      "(60000, 784)\n",
      "(60000,)\n"
     ]
    },
    {
     "name": "stderr",
     "output_type": "stream",
     "text": [
      "/home/sanjay/venv_general/lib64/python3.8/site-packages/torchvision/datasets/mnist.py:58: UserWarning: train_data has been renamed data\n",
      "  warnings.warn(\"train_data has been renamed data\")\n"
     ]
    }
   ],
   "source": [
    "#flatten each image\n",
    "data_features = data.train_data.numpy().reshape(data.train_data.shape[0], -1).astype(np.float32)\n",
    "data_labels = data.train_labels.numpy()\n",
    "print(data_features.shape)\n",
    "print(data_labels.shape)"
   ]
  },
  {
   "cell_type": "code",
   "execution_count": 50,
   "metadata": {},
   "outputs": [],
   "source": [
    "model = RandomForestClassifier(n_estimators = N_TREES,\n",
    "                               max_depth =15,\n",
    "                               n_jobs = N_PROC,\n",
    "                               oob_score = True)"
   ]
  },
  {
   "cell_type": "markdown",
   "metadata": {},
   "source": [
    "### Some run times"
   ]
  },
  {
   "cell_type": "code",
   "execution_count": 51,
   "metadata": {},
   "outputs": [],
   "source": [
    "@profile(immediate=True)\n",
    "def train(data_features, data_labels, N_TRAIN_CYCLES):\n",
    "    scores = []\n",
    "    \n",
    "    for _ in range(N_TRAIN_CYCLES):\n",
    "        model = RandomForestClassifier(n_estimators = N_TREES,\n",
    "                               max_depth =15,\n",
    "                               n_jobs = N_PROC,\n",
    "                               oob_score = True)\n",
    "        \n",
    "        model.fit(data_features, data_labels)\n",
    "        \n",
    "        scores.append(model.oob_score_)\n",
    "    \n",
    "    return scores"
   ]
  },
  {
   "cell_type": "code",
   "execution_count": 53,
   "metadata": {
    "scrolled": false
   },
   "outputs": [
    {
     "name": "stdout",
     "output_type": "stream",
     "text": [
      "\n",
      "*** PROFILER RESULTS ***\n",
      "train (<ipython-input-51-0270da01e5ef>:1)\n",
      "function called 1 times\n",
      "\n",
      "         3120430 function calls (3064420 primitive calls) in 283.600 seconds\n",
      "\n",
      "   Ordered by: cumulative time, internal time, call count\n",
      "   List reduced from 370 to 40 due to restriction <40>\n",
      "\n",
      "   ncalls  tottime  percall  cumtime  percall filename:lineno(function)\n",
      "        1    0.019    0.019  283.600  283.600 <ipython-input-51-0270da01e5ef>:1(train)\n",
      "        2    0.000    0.000  283.581  141.790 _forest.py:273(fit)\n",
      "        2    0.000    0.000  248.368  124.184 parallel.py:958(__call__)\n",
      "        2    0.017    0.009  248.364  124.182 parallel.py:918(retrieve)\n",
      "     2000    0.004    0.000  248.343    0.124 pool.py:764(get)\n",
      "     2000    0.003    0.000  248.336    0.124 pool.py:761(wait)\n",
      "     2010    0.007    0.000  248.334    0.124 threading.py:540(wait)\n",
      "     1976    0.012    0.000  248.323    0.126 threading.py:270(wait)\n",
      "     7928  248.306    0.031  248.306    0.031 {method 'acquire' of '_thread.lock' objects}\n",
      "        2   21.427   10.714   34.150   17.075 _forest.py:510(_set_oob_score)\n",
      "     2000    0.574    0.000   10.616    0.005 _classes.py:905(predict_proba)\n",
      "     2000    9.037    0.005    9.039    0.005 {method 'predict' of 'sklearn.tree._tree.Tree' objects}\n",
      "     2000    0.661    0.000    2.045    0.001 _forest.py:127(_generate_unsampled_indices)\n",
      "     4012    1.062    0.000    1.062    0.000 {method 'reduce' of 'numpy.ufunc' objects}\n",
      "     2000    0.005    0.000    1.039    0.001 _forest.py:117(_generate_sample_indices)\n",
      "        2    0.002    0.001    0.996    0.498 _forest.py:377(<listcomp>)\n",
      "     2000    0.008    0.000    0.994    0.000 _base.py:144(_make_estimator)\n",
      "     2004    0.006    0.000    0.942    0.000 {method 'sum' of 'numpy.ndarray' objects}\n",
      "     2004    0.003    0.000    0.936    0.000 _methods.py:45(_sum)\n",
      "    10000    0.044    0.000    0.814    0.000 base.py:178(get_params)\n",
      "    10000    0.046    0.000    0.751    0.000 base.py:151(_get_param_names)\n",
      "     4000    0.563    0.000    0.602    0.000 {method 'randint' of 'numpy.random.mtrand.RandomState' objects}\n",
      "34014/4006    0.033    0.000    0.592    0.000 validation.py:59(inner_f)\n",
      "    10000    0.004    0.000    0.577    0.000 inspect.py:3091(signature)\n",
      "    10000    0.004    0.000    0.573    0.000 inspect.py:2839(from_callable)\n",
      "    10000    0.032    0.000    0.568    0.000 inspect.py:2206(_signature_from_callable)\n",
      "    10000    0.150    0.000    0.496    0.000 inspect.py:2112(_signature_from_function)\n",
      "     4002    0.207    0.000    0.449    0.000 validation.py:869(check_random_state)\n",
      "6022/6020    0.283    0.000    0.440    0.000 {built-in method numpy.core._multiarray_umath.implement_array_function}\n",
      "28000/2000    0.034    0.000    0.419    0.000 base.py:28(clone)\n",
      "     2000    0.013    0.000    0.378    0.000 _base.py:43(_set_random_states)\n",
      "     4000    0.017    0.000    0.353    0.000 base.py:202(set_params)\n",
      "     2000    0.003    0.000    0.276    0.000 <__array_function__ internals>:2(bincount)\n",
      "   140000    0.124    0.000    0.220    0.000 inspect.py:2477(__init__)\n",
      "     2000    0.009    0.000    0.193    0.000 contextlib.py:72(inner)\n",
      "     2000    0.152    0.000    0.152    0.000 {function SeedSequence.generate_state at 0x7fd9c38da1f0}\n",
      "     2004    0.009    0.000    0.141    0.000 fromnumeric.py:70(_wrapreduction)\n",
      "        6    0.000    0.000    0.113    0.019 validation.py:404(check_array)\n",
      "        6    0.000    0.000    0.113    0.019 validation.py:83(_assert_all_finite)\n",
      "        4    0.000    0.000    0.113    0.028 extmath.py:663(_safe_accumulator_op)\n",
      "\n",
      "\n"
     ]
    }
   ],
   "source": [
    "scores = train(data_features, data_labels, N_TRAIN_CYCLES)"
   ]
  },
  {
   "cell_type": "code",
   "execution_count": 54,
   "metadata": {},
   "outputs": [
    {
     "data": {
      "text/plain": [
       "(array([1., 0., 0., 0., 0., 0., 0., 0., 0., 1.]),\n",
       " array([0.96683333, 0.96687   , 0.96690667, 0.96694333, 0.96698   ,\n",
       "        0.96701667, 0.96705333, 0.96709   , 0.96712667, 0.96716333,\n",
       "        0.9672    ]),\n",
       " <BarContainer object of 10 artists>)"
      ]
     },
     "execution_count": 54,
     "metadata": {},
     "output_type": "execute_result"
    },
    {
     "data": {
      "image/png": "[encoded data removed]",
      "text/plain": [
       "<Figure size 432x288 with 1 Axes>"
      ]
     },
     "metadata": {
      "needs_background": "light"
     },
     "output_type": "display_data"
    }
   ],
   "source": [
    "plt.hist(scores)"
   ]
  },
  {
   "cell_type": "code",
   "execution_count": null,
   "metadata": {},
   "outputs": [],
   "source": []
  }
 ],
 "metadata": {
  "kernelspec": {
   "display_name": "Python 3",
   "language": "python",
   "name": "python3"
  },
  "language_info": {
   "codemirror_mode": {
    "name": "ipython",
    "version": 3
   },
   "file_extension": ".py",
   "mimetype": "text/x-python",
   "name": "python",
   "nbconvert_exporter": "python",
   "pygments_lexer": "ipython3",
   "version": "3.6.12"
  }
 },
 "nbformat": 4,
 "nbformat_minor": 2
}

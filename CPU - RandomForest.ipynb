{
 "cells": [
  {
   "cell_type": "markdown",
   "metadata": {},
   "source": [
    "### Imports"
   ]
  },
  {
   "cell_type": "code",
   "execution_count": 1,
   "metadata": {},
   "outputs": [
    {
     "name": "stdout",
     "output_type": "stream",
     "text": [
      "Requirement already satisfied: ipywidgets==7.6.2 in /opt/app-root/lib/python3.6/site-packages (from -r requirements.txt (line 1)) (7.6.2)\n",
      "Requirement already satisfied: matplotlib==3.0.0 in /opt/app-root/lib/python3.6/site-packages (from -r requirements.txt (line 2)) (3.0.0)\n",
      "Requirement already satisfied: pandas==0.23.1 in /opt/app-root/lib/python3.6/site-packages (from -r requirements.txt (line 3)) (0.23.1)\n",
      "Requirement already satisfied: profilehooks==1.11.2 in /opt/app-root/lib/python3.6/site-packages (from -r requirements.txt (line 4)) (1.11.2)\n",
      "Requirement already satisfied: scikit-learn==0.22 in /opt/app-root/lib/python3.6/site-packages (from -r requirements.txt (line 5)) (0.22)\n",
      "Requirement already satisfied: torchvision==0.8.2 in /opt/app-root/lib/python3.6/site-packages (from -r requirements.txt (line 6)) (0.8.2)\n",
      "Requirement already satisfied: nbformat>=4.2.0 in /opt/app-root/lib/python3.6/site-packages (from ipywidgets==7.6.2->-r requirements.txt (line 1)) (5.0.8)\n",
      "Requirement already satisfied: jupyterlab-widgets>=1.0.0; python_version >= \"3.5\" in /opt/app-root/lib/python3.6/site-packages (from ipywidgets==7.6.2->-r requirements.txt (line 1)) (1.0.0)\n",
      "Requirement already satisfied: widgetsnbextension~=3.5.0 in /opt/app-root/lib/python3.6/site-packages (from ipywidgets==7.6.2->-r requirements.txt (line 1)) (3.5.1)\n",
      "Requirement already satisfied: ipykernel>=4.5.1 in /opt/app-root/lib/python3.6/site-packages (from ipywidgets==7.6.2->-r requirements.txt (line 1)) (5.3.4)\n",
      "Requirement already satisfied: traitlets>=4.3.1 in /opt/app-root/lib/python3.6/site-packages (from ipywidgets==7.6.2->-r requirements.txt (line 1)) (4.3.3)\n",
      "Requirement already satisfied: ipython>=4.0.0; python_version >= \"3.3\" in /opt/app-root/lib/python3.6/site-packages (from ipywidgets==7.6.2->-r requirements.txt (line 1)) (7.16.1)\n",
      "Requirement already satisfied: python-dateutil>=2.1 in /opt/app-root/lib/python3.6/site-packages (from matplotlib==3.0.0->-r requirements.txt (line 2)) (2.8.1)\n",
      "Requirement already satisfied: pyparsing!=2.0.4,!=2.1.2,!=2.1.6,>=2.0.1 in /opt/app-root/lib/python3.6/site-packages (from matplotlib==3.0.0->-r requirements.txt (line 2)) (2.4.7)\n",
      "Requirement already satisfied: kiwisolver>=1.0.1 in /opt/app-root/lib/python3.6/site-packages (from matplotlib==3.0.0->-r requirements.txt (line 2)) (1.3.1)\n",
      "Requirement already satisfied: cycler>=0.10 in /opt/app-root/lib/python3.6/site-packages (from matplotlib==3.0.0->-r requirements.txt (line 2)) (0.10.0)\n",
      "Requirement already satisfied: numpy>=1.10.0 in /opt/app-root/lib/python3.6/site-packages (from matplotlib==3.0.0->-r requirements.txt (line 2)) (1.19.5)\n",
      "Requirement already satisfied: pytz>=2011k in /opt/app-root/lib/python3.6/site-packages (from pandas==0.23.1->-r requirements.txt (line 3)) (2020.1)\n",
      "Requirement already satisfied: scipy>=0.17.0 in /opt/app-root/lib/python3.6/site-packages (from scikit-learn==0.22->-r requirements.txt (line 5)) (1.5.4)\n",
      "Requirement already satisfied: joblib>=0.11 in /opt/app-root/lib/python3.6/site-packages (from scikit-learn==0.22->-r requirements.txt (line 5)) (1.0.0)\n",
      "Requirement already satisfied: torch==1.7.1 in /opt/app-root/lib/python3.6/site-packages (from torchvision==0.8.2->-r requirements.txt (line 6)) (1.7.1)\n",
      "Requirement already satisfied: pillow>=4.1.1 in /opt/app-root/lib/python3.6/site-packages (from torchvision==0.8.2->-r requirements.txt (line 6)) (8.1.0)\n",
      "Requirement already satisfied: jsonschema!=2.5.0,>=2.4 in /opt/app-root/lib/python3.6/site-packages (from nbformat>=4.2.0->ipywidgets==7.6.2->-r requirements.txt (line 1)) (3.2.0)\n",
      "Requirement already satisfied: jupyter-core in /opt/app-root/lib/python3.6/site-packages (from nbformat>=4.2.0->ipywidgets==7.6.2->-r requirements.txt (line 1)) (4.6.3)\n",
      "Requirement already satisfied: ipython-genutils in /opt/app-root/lib/python3.6/site-packages (from nbformat>=4.2.0->ipywidgets==7.6.2->-r requirements.txt (line 1)) (0.2.0)\n",
      "Requirement already satisfied: notebook>=4.4.1 in /opt/app-root/lib/python3.6/site-packages (from widgetsnbextension~=3.5.0->ipywidgets==7.6.2->-r requirements.txt (line 1)) (6.1.4)\n",
      "Requirement already satisfied: jupyter-client in /opt/app-root/lib/python3.6/site-packages (from ipykernel>=4.5.1->ipywidgets==7.6.2->-r requirements.txt (line 1)) (6.1.7)\n",
      "Requirement already satisfied: tornado>=4.2 in /opt/app-root/lib/python3.6/site-packages (from ipykernel>=4.5.1->ipywidgets==7.6.2->-r requirements.txt (line 1)) (6.0.4)\n",
      "Requirement already satisfied: six in /opt/app-root/lib/python3.6/site-packages (from traitlets>=4.3.1->ipywidgets==7.6.2->-r requirements.txt (line 1)) (1.15.0)\n",
      "Requirement already satisfied: decorator in /opt/app-root/lib/python3.6/site-packages (from traitlets>=4.3.1->ipywidgets==7.6.2->-r requirements.txt (line 1)) (4.4.2)\n",
      "Requirement already satisfied: jedi>=0.10 in /opt/app-root/lib/python3.6/site-packages (from ipython>=4.0.0; python_version >= \"3.3\"->ipywidgets==7.6.2->-r requirements.txt (line 1)) (0.17.2)\n",
      "Requirement already satisfied: prompt-toolkit!=3.0.0,!=3.0.1,<3.1.0,>=2.0.0 in /opt/app-root/lib/python3.6/site-packages (from ipython>=4.0.0; python_version >= \"3.3\"->ipywidgets==7.6.2->-r requirements.txt (line 1)) (3.0.3)\n",
      "Requirement already satisfied: backcall in /opt/app-root/lib/python3.6/site-packages (from ipython>=4.0.0; python_version >= \"3.3\"->ipywidgets==7.6.2->-r requirements.txt (line 1)) (0.2.0)\n",
      "Requirement already satisfied: setuptools>=18.5 in /opt/app-root/lib/python3.6/site-packages (from ipython>=4.0.0; python_version >= \"3.3\"->ipywidgets==7.6.2->-r requirements.txt (line 1)) (50.3.2)\n",
      "Requirement already satisfied: pickleshare in /opt/app-root/lib/python3.6/site-packages (from ipython>=4.0.0; python_version >= \"3.3\"->ipywidgets==7.6.2->-r requirements.txt (line 1)) (0.7.5)\n",
      "Requirement already satisfied: pygments in /opt/app-root/lib/python3.6/site-packages (from ipython>=4.0.0; python_version >= \"3.3\"->ipywidgets==7.6.2->-r requirements.txt (line 1)) (2.7.2)\n",
      "Requirement already satisfied: pexpect; sys_platform != \"win32\" in /opt/app-root/lib/python3.6/site-packages (from ipython>=4.0.0; python_version >= \"3.3\"->ipywidgets==7.6.2->-r requirements.txt (line 1)) (4.8.0)\n",
      "Requirement already satisfied: typing-extensions in /opt/app-root/lib/python3.6/site-packages (from torch==1.7.1->torchvision==0.8.2->-r requirements.txt (line 6)) (3.7.4.3)\n",
      "Requirement already satisfied: dataclasses; python_version < \"3.7\" in /opt/app-root/lib/python3.6/site-packages (from torch==1.7.1->torchvision==0.8.2->-r requirements.txt (line 6)) (0.7)\n",
      "Requirement already satisfied: importlib-metadata; python_version < \"3.8\" in /opt/app-root/lib/python3.6/site-packages (from jsonschema!=2.5.0,>=2.4->nbformat>=4.2.0->ipywidgets==7.6.2->-r requirements.txt (line 1)) (2.0.0)\n",
      "Requirement already satisfied: pyrsistent>=0.14.0 in /opt/app-root/lib/python3.6/site-packages (from jsonschema!=2.5.0,>=2.4->nbformat>=4.2.0->ipywidgets==7.6.2->-r requirements.txt (line 1)) (0.17.3)\n",
      "Requirement already satisfied: attrs>=17.4.0 in /opt/app-root/lib/python3.6/site-packages (from jsonschema!=2.5.0,>=2.4->nbformat>=4.2.0->ipywidgets==7.6.2->-r requirements.txt (line 1)) (20.2.0)\n",
      "Requirement already satisfied: prometheus-client in /opt/app-root/lib/python3.6/site-packages (from notebook>=4.4.1->widgetsnbextension~=3.5.0->ipywidgets==7.6.2->-r requirements.txt (line 1)) (0.8.0)\n",
      "Requirement already satisfied: jinja2 in /opt/app-root/lib/python3.6/site-packages (from notebook>=4.4.1->widgetsnbextension~=3.5.0->ipywidgets==7.6.2->-r requirements.txt (line 1)) (2.11.2)\n",
      "Requirement already satisfied: terminado>=0.8.3 in /opt/app-root/lib/python3.6/site-packages (from notebook>=4.4.1->widgetsnbextension~=3.5.0->ipywidgets==7.6.2->-r requirements.txt (line 1)) (0.9.1)\n",
      "Requirement already satisfied: nbconvert in /opt/app-root/lib/python3.6/site-packages (from notebook>=4.4.1->widgetsnbextension~=3.5.0->ipywidgets==7.6.2->-r requirements.txt (line 1)) (5.6.1)\n",
      "Requirement already satisfied: argon2-cffi in /opt/app-root/lib/python3.6/site-packages (from notebook>=4.4.1->widgetsnbextension~=3.5.0->ipywidgets==7.6.2->-r requirements.txt (line 1)) (20.1.0)\n",
      "Requirement already satisfied: pyzmq>=17 in /opt/app-root/lib/python3.6/site-packages (from notebook>=4.4.1->widgetsnbextension~=3.5.0->ipywidgets==7.6.2->-r requirements.txt (line 1)) (19.0.2)\n",
      "Requirement already satisfied: Send2Trash in /opt/app-root/lib/python3.6/site-packages (from notebook>=4.4.1->widgetsnbextension~=3.5.0->ipywidgets==7.6.2->-r requirements.txt (line 1)) (1.5.0)\n",
      "Requirement already satisfied: parso<0.8.0,>=0.7.0 in /opt/app-root/lib/python3.6/site-packages (from jedi>=0.10->ipython>=4.0.0; python_version >= \"3.3\"->ipywidgets==7.6.2->-r requirements.txt (line 1)) (0.7.1)\n",
      "Requirement already satisfied: wcwidth in /opt/app-root/lib/python3.6/site-packages (from prompt-toolkit!=3.0.0,!=3.0.1,<3.1.0,>=2.0.0->ipython>=4.0.0; python_version >= \"3.3\"->ipywidgets==7.6.2->-r requirements.txt (line 1)) (0.2.5)\n",
      "Requirement already satisfied: ptyprocess>=0.5 in /opt/app-root/lib/python3.6/site-packages (from pexpect; sys_platform != \"win32\"->ipython>=4.0.0; python_version >= \"3.3\"->ipywidgets==7.6.2->-r requirements.txt (line 1)) (0.6.0)\n",
      "Requirement already satisfied: zipp>=0.5 in /opt/app-root/lib/python3.6/site-packages (from importlib-metadata; python_version < \"3.8\"->jsonschema!=2.5.0,>=2.4->nbformat>=4.2.0->ipywidgets==7.6.2->-r requirements.txt (line 1)) (3.4.0)\n",
      "Requirement already satisfied: MarkupSafe>=0.23 in /opt/app-root/lib/python3.6/site-packages (from jinja2->notebook>=4.4.1->widgetsnbextension~=3.5.0->ipywidgets==7.6.2->-r requirements.txt (line 1)) (1.1.1)\n",
      "Requirement already satisfied: pandocfilters>=1.4.1 in /opt/app-root/lib/python3.6/site-packages (from nbconvert->notebook>=4.4.1->widgetsnbextension~=3.5.0->ipywidgets==7.6.2->-r requirements.txt (line 1)) (1.4.3)\n",
      "Requirement already satisfied: defusedxml in /opt/app-root/lib/python3.6/site-packages (from nbconvert->notebook>=4.4.1->widgetsnbextension~=3.5.0->ipywidgets==7.6.2->-r requirements.txt (line 1)) (0.6.0)\n",
      "Requirement already satisfied: bleach in /opt/app-root/lib/python3.6/site-packages (from nbconvert->notebook>=4.4.1->widgetsnbextension~=3.5.0->ipywidgets==7.6.2->-r requirements.txt (line 1)) (3.2.1)\n",
      "Requirement already satisfied: mistune<2,>=0.8.1 in /opt/app-root/lib/python3.6/site-packages (from nbconvert->notebook>=4.4.1->widgetsnbextension~=3.5.0->ipywidgets==7.6.2->-r requirements.txt (line 1)) (0.8.4)\n",
      "Requirement already satisfied: entrypoints>=0.2.2 in /opt/app-root/lib/python3.6/site-packages (from nbconvert->notebook>=4.4.1->widgetsnbextension~=3.5.0->ipywidgets==7.6.2->-r requirements.txt (line 1)) (0.3)\n",
      "Requirement already satisfied: testpath in /opt/app-root/lib/python3.6/site-packages (from nbconvert->notebook>=4.4.1->widgetsnbextension~=3.5.0->ipywidgets==7.6.2->-r requirements.txt (line 1)) (0.4.4)\n",
      "Requirement already satisfied: cffi>=1.0.0 in /opt/app-root/lib/python3.6/site-packages (from argon2-cffi->notebook>=4.4.1->widgetsnbextension~=3.5.0->ipywidgets==7.6.2->-r requirements.txt (line 1)) (1.14.3)\n",
      "Requirement already satisfied: packaging in /opt/app-root/lib/python3.6/site-packages (from bleach->nbconvert->notebook>=4.4.1->widgetsnbextension~=3.5.0->ipywidgets==7.6.2->-r requirements.txt (line 1)) (20.4)\n",
      "Requirement already satisfied: webencodings in /opt/app-root/lib/python3.6/site-packages (from bleach->nbconvert->notebook>=4.4.1->widgetsnbextension~=3.5.0->ipywidgets==7.6.2->-r requirements.txt (line 1)) (0.5.1)\n",
      "Requirement already satisfied: pycparser in /opt/app-root/lib/python3.6/site-packages (from cffi>=1.0.0->argon2-cffi->notebook>=4.4.1->widgetsnbextension~=3.5.0->ipywidgets==7.6.2->-r requirements.txt (line 1)) (2.20)\n",
      "\u001b[33mWARNING: You are using pip version 20.2.4; however, version 21.0.1 is available.\n",
      "You should consider upgrading via the '/opt/app-root/bin/python3.6 -m pip install --upgrade pip' command.\u001b[0m\n"
     ]
    }
   ],
   "source": [
    "!pip install -r requirements.txt"
   ]
  },
  {
   "cell_type": "code",
   "execution_count": 2,
   "metadata": {},
   "outputs": [],
   "source": [
    "%load_ext autoreload\n",
    "%autoreload 2\n",
    "%matplotlib inline"
   ]
  },
  {
   "cell_type": "code",
   "execution_count": 3,
   "metadata": {},
   "outputs": [],
   "source": [
    "import numpy as np\n",
    "import pandas as pd\n",
    "from sklearn.ensemble import RandomForestClassifier\n",
    "import copy\n",
    "import os\n",
    "\n",
    "from torchvision.datasets import MNIST\n",
    "\n",
    "from profilehooks import profile\n",
    "    \n",
    "import matplotlib.pylab as plt"
   ]
  },
  {
   "cell_type": "markdown",
   "metadata": {},
   "source": [
    "#### Get number of threads and choose range of number of clusters"
   ]
  },
  {
   "cell_type": "code",
   "execution_count": 4,
   "metadata": {},
   "outputs": [],
   "source": [
    "N_PROC = 4 #CHANGE THIS\n",
    "N_TREES = 1000\n",
    "N_TRAIN_CYCLES = 20"
   ]
  },
  {
   "cell_type": "markdown",
   "metadata": {},
   "source": [
    "### Workload\n",
    "\n",
    "Run a random forest classifier on the MNIST dataset. The training process is CPU only with the trees distributed across N_PROC. Note: obviously, we are not claiming a random forest classifier is the most appropriate model for an image classification problem on raw pixel features."
   ]
  },
  {
   "cell_type": "code",
   "execution_count": 5,
   "metadata": {},
   "outputs": [],
   "source": [
    "data = MNIST('./', download=True)"
   ]
  },
  {
   "cell_type": "code",
   "execution_count": 6,
   "metadata": {},
   "outputs": [
    {
     "name": "stderr",
     "output_type": "stream",
     "text": [
      "/opt/app-root/lib/python3.6/site-packages/torchvision/datasets/mnist.py:48: UserWarning: train_labels has been renamed targets\n",
      "  warnings.warn(\"train_labels has been renamed targets\")\n"
     ]
    },
    {
     "data": {
      "text/plain": [
       "tensor([5, 0, 4,  ..., 5, 6, 8])"
      ]
     },
     "execution_count": 6,
     "metadata": {},
     "output_type": "execute_result"
    }
   ],
   "source": [
    "data.train_labels"
   ]
  },
  {
   "cell_type": "code",
   "execution_count": 7,
   "metadata": {},
   "outputs": [
    {
     "name": "stdout",
     "output_type": "stream",
     "text": [
      "(60000, 784)\n",
      "(60000,)\n"
     ]
    },
    {
     "name": "stderr",
     "output_type": "stream",
     "text": [
      "/opt/app-root/lib/python3.6/site-packages/torchvision/datasets/mnist.py:58: UserWarning: train_data has been renamed data\n",
      "  warnings.warn(\"train_data has been renamed data\")\n"
     ]
    }
   ],
   "source": [
    "#flatten each image\n",
    "data_features = data.train_data.numpy().reshape(data.train_data.shape[0], -1).astype(np.float32)\n",
    "data_labels = data.train_labels.numpy()\n",
    "print(data_features.shape)\n",
    "print(data_labels.shape)"
   ]
  },
  {
   "cell_type": "code",
   "execution_count": 8,
   "metadata": {},
   "outputs": [],
   "source": [
    "model = RandomForestClassifier(n_estimators = N_TREES,\n",
    "                               max_depth =15,\n",
    "                               n_jobs = N_PROC,\n",
    "                               oob_score = True)"
   ]
  },
  {
   "cell_type": "markdown",
   "metadata": {},
   "source": [
    "### Some run times"
   ]
  },
  {
   "cell_type": "code",
   "execution_count": 9,
   "metadata": {},
   "outputs": [],
   "source": [
    "@profile(immediate=True)\n",
    "def train(data_features, data_labels, N_TRAIN_CYCLES):\n",
    "    scores = []\n",
    "    \n",
    "    for _ in range(N_TRAIN_CYCLES):\n",
    "        model = RandomForestClassifier(n_estimators = N_TREES,\n",
    "                               max_depth =15,\n",
    "                               n_jobs = N_PROC,\n",
    "                               oob_score = True)\n",
    "        \n",
    "        model.fit(data_features, data_labels)\n",
    "        \n",
    "        scores.append(model.oob_score_)\n",
    "    \n",
    "    return scores"
   ]
  },
  {
   "cell_type": "code",
   "execution_count": 10,
   "metadata": {},
   "outputs": [
    {
     "name": "stdout",
     "output_type": "stream",
     "text": [
      "\n",
      "*** PROFILER RESULTS ***\n",
      "train (<ipython-input-9-0270da01e5ef>:1)\n",
      "function called 1 times\n",
      "\n",
      "         30055005 function calls (29774601 primitive calls) in 2109.621 seconds\n",
      "\n",
      "   Ordered by: cumulative time, internal time, call count\n",
      "   List reduced from 396 to 40 due to restriction <40>\n",
      "\n",
      "   ncalls  tottime  percall  cumtime  percall filename:lineno(function)\n",
      "        1    0.130    0.130 2109.621 2109.621 <ipython-input-9-0270da01e5ef>:1(train)\n",
      "       20    0.002    0.000 2109.490  105.474 _forest.py:268(fit)\n",
      "       20    0.001    0.000 1597.006   79.850 parallel.py:958(__call__)\n",
      "    75460 1596.238    0.021 1596.238    0.021 {method 'acquire' of '_thread.lock' objects}\n",
      "       20    0.204    0.010 1595.945   79.797 parallel.py:918(retrieve)\n",
      "    20000    0.052    0.000 1595.688    0.080 pool.py:637(get)\n",
      "    20000    0.034    0.000 1595.598    0.080 pool.py:634(wait)\n",
      "    20140    0.097    0.000 1595.584    0.079 threading.py:533(wait)\n",
      "    18715    0.145    0.000 1595.440    0.085 threading.py:263(wait)\n",
      "       20  333.482   16.674  498.153   24.908 _forest.py:492(_set_oob_score)\n",
      "    20000    6.888    0.000  139.855    0.007 _classes.py:879(predict_proba)\n",
      "    20000  121.283    0.006  121.314    0.006 {method 'predict' of 'sklearn.tree._tree.Tree' objects}\n",
      "    20000    7.410    0.000   24.001    0.001 _forest.py:125(_generate_unsampled_indices)\n",
      "       20    0.018    0.001   13.531    0.677 _forest.py:367(<listcomp>)\n",
      "    20000    0.097    0.000   13.513    0.001 _base.py:143(_make_estimator)\n",
      "    20000    0.060    0.000   12.697    0.001 _forest.py:115(_generate_sample_indices)\n",
      "    40120   12.447    0.000   12.447    0.000 {method 'reduce' of 'numpy.ufunc' objects}\n",
      "   100000    0.646    0.000   11.503    0.000 base.py:173(get_params)\n",
      "    20040    0.093    0.000   10.984    0.001 {method 'sum' of 'numpy.ndarray' objects}\n",
      "    20040    0.030    0.000   10.891    0.001 _methods.py:45(_sum)\n",
      "   100000    0.646    0.000   10.330    0.000 base.py:146(_get_param_names)\n",
      "   100000    0.058    0.000    7.773    0.000 inspect.py:3063(signature)\n",
      "   100000    0.056    0.000    7.716    0.000 inspect.py:2811(from_callable)\n",
      "   100000    0.390    0.000    7.660    0.000 inspect.py:2183(_signature_from_callable)\n",
      "    40000    6.418    0.000    6.965    0.000 {method 'randint' of 'numpy.random.mtrand.RandomState' objects}\n",
      "   100000    2.058    0.000    6.924    0.000 inspect.py:2102(_signature_from_function)\n",
      "    40020    2.747    0.000    5.931    0.000 validation.py:784(check_random_state)\n",
      "300000/20000    0.475    0.000    5.500    0.000 base.py:39(clone)\n",
      "    20000    0.128    0.000    5.255    0.000 _base.py:42(_set_random_states)\n",
      "60200/60180    3.089    0.000    5.099    0.000 {built-in method numpy.core._multiarray_umath.implement_array_function}\n",
      "    40000    0.221    0.000    5.033    0.000 base.py:205(set_params)\n",
      "  1500000    1.886    0.000    3.210    0.000 inspect.py:2452(__init__)\n",
      "    20000    0.039    0.000    3.009    0.000 <__array_function__ internals>:2(bincount)\n",
      "    20000    1.943    0.000    2.370    0.000 contextlib.py:49(inner)\n",
      "    20040    0.163    0.000    1.800    0.000 fromnumeric.py:70(_wrapreduction)\n",
      "       60    0.002    0.000    1.396    0.023 validation.py:339(check_array)\n",
      "       60    0.001    0.000    1.391    0.023 validation.py:37(_assert_all_finite)\n",
      "       40    0.000    0.000    1.389    0.035 extmath.py:681(_safe_accumulator_op)\n",
      "       40    0.000    0.000    1.388    0.035 <__array_function__ internals>:2(sum)\n",
      "       40    0.000    0.000    1.388    0.035 fromnumeric.py:2105(sum)\n",
      "\n",
      "\n"
     ]
    }
   ],
   "source": [
    "scores = train(data_features, data_labels, N_TRAIN_CYCLES)"
   ]
  },
  {
   "cell_type": "code",
   "execution_count": null,
   "metadata": {},
   "outputs": [],
   "source": [
    "plt.hist(scores)"
   ]
  },
  {
   "cell_type": "code",
   "execution_count": null,
   "metadata": {},
   "outputs": [],
   "source": []
  }
 ],
 "metadata": {
  "kernelspec": {
   "display_name": "Python 3",
   "language": "python",
   "name": "python3"
  },
  "language_info": {
   "codemirror_mode": {
    "name": "ipython",
    "version": 3
   },
   "file_extension": ".py",
   "mimetype": "text/x-python",
   "name": "python",
   "nbconvert_exporter": "python",
   "pygments_lexer": "ipython3",
   "version": "3.6.8"
  }
 },
 "nbformat": 4,
 "nbformat_minor": 4
}
